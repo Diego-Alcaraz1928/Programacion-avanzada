{
 "cells": [
  {
   "cell_type": "markdown",
   "id": "af7605c7-7d3a-409e-b7a0-e3f62f76219b",
   "metadata": {},
   "source": [
    "## U1A4 Evaluación de Métodos de Ordenamiento"
   ]
  },
  {
   "cell_type": "code",
   "execution_count": 2,
   "id": "8d2f40bc-85b2-44c4-9c5c-4e61e3752dd1",
   "metadata": {},
   "outputs": [
    {
     "name": "stdout",
     "output_type": "stream",
     "text": [
      "\n",
      "Ordenando lista de 100 elementos:\n",
      "Tiempo del método de burbuja: 0.002000 segundos\n",
      "Tiempo del Quick Sort: 0.000999 segundos\n",
      "\n",
      "Ordenando lista de 2000 elementos:\n",
      "Tiempo del método de burbuja: 0.652026 segundos\n",
      "Tiempo del Quick Sort: 0.004530 segundos\n",
      "\n",
      "Ordenando lista de 5000 elementos:\n",
      "Tiempo del método de burbuja: 2.696266 segundos\n",
      "Tiempo del Quick Sort: 0.014091 segundos\n",
      "\n",
      "Ordenando lista de 10000 elementos:\n",
      "Tiempo del método de burbuja: 11.233988 segundos\n",
      "Tiempo del Quick Sort: 0.027651 segundos\n"
     ]
    }
   ],
   "source": [
    "import time\n",
    "import random\n",
    "\n",
    "# Algoritmo de ordenamiento burbuja\n",
    "def metodo_burbuja(lista):\n",
    "    for i in range(len(lista)):\n",
    "        for j in range(0, len(lista) - i - 1):\n",
    "            if lista[j] > lista[j + 1]:\n",
    "                lista[j], lista[j + 1] = lista[j + 1], lista[j]\n",
    "    return lista\n",
    "\n",
    "# Algoritmo de ordenamiento quick sort\n",
    "def quick_sort(lista):\n",
    "    if len(lista) < 2:\n",
    "        return lista\n",
    "    else:\n",
    "        pivote = lista[0]\n",
    "        menores = [x for x in lista[1:] if x < pivote]\n",
    "        mayores = [x for x in lista[1:] if x >= pivote]\n",
    "        return quick_sort(menores) + [pivote] + quick_sort(mayores)\n",
    "\n",
    "# Función para medir el tiempo de ejecución\n",
    "def medir_tiempo(algoritmo, lista):\n",
    "    inicio = time.time()\n",
    "    algoritmo(lista.copy())  # Copiamos la lista para no modificar la original\n",
    "    fin = time.time()\n",
    "    return fin - inicio\n",
    "\n",
    "# Tamaños de las listas a probar\n",
    "tamanos = [100, 2000, 5000, 10000]\n",
    "\n",
    "# Comparación de tiempos para cada tamaño de lista\n",
    "for tam in tamanos:\n",
    "    lista_random = [random.randint(1, tam * 10) for _ in range(tam)]  # Lista de números aleatorios con repetición\n",
    "\n",
    "    print(f\"\\nOrdenando lista de {tam} elementos:\")\n",
    "\n",
    "    tiempo_burbuja = medir_tiempo(metodo_burbuja, lista_random)\n",
    "    print(f\"Tiempo del método de burbuja: {tiempo_burbuja:.6f} segundos\")\n",
    "\n",
    "    tiempo_quick_sort = medir_tiempo(quick_sort, lista_random)\n",
    "    print(f\"Tiempo del Quick Sort: {tiempo_quick_sort:.6f} segundos\")"
   ]
  }
 ],
 "metadata": {
  "kernelspec": {
   "display_name": "Python 3 (ipykernel)",
   "language": "python",
   "name": "python3"
  },
  "language_info": {
   "codemirror_mode": {
    "name": "ipython",
    "version": 3
   },
   "file_extension": ".py",
   "mimetype": "text/x-python",
   "name": "python",
   "nbconvert_exporter": "python",
   "pygments_lexer": "ipython3",
   "version": "3.12.7"
  }
 },
 "nbformat": 4,
 "nbformat_minor": 5
}
